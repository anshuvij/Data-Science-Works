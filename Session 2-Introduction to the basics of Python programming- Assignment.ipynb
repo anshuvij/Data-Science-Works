{
 "cells": [
  {
   "cell_type": "markdown",
   "metadata": {},
   "source": [
    "### Data Analytics Assignment 1 - Python Introduction\n",
    "\n",
    "Data cleansing, List, Dictionary, conditionals, loops"
   ]
  },
  {
   "cell_type": "code",
   "execution_count": 144,
   "metadata": {},
   "outputs": [],
   "source": [
    "#You are given the batting data of qualifier between MI and KKR in the form of a nested dictionary.\n",
    "\n",
    "qualifier_2 = {'KKR' : {'Chris Lynn': 4, \n",
    "                      'Sunil Narine': 10, \n",
    "                      'Gautam Gambhir (c)': 12, \n",
    "                      'Robin Uthappa (wk)': 1, \n",
    "                      'Ishank Jaggi': 28, \n",
    "                      'Colin Grandhomme': 0,\n",
    "                      'Suryakumar Yadav': 31,\n",
    "                      'Piyush Chawla': 2,\n",
    "                      'Nathan Coulter-Nile': 6,\n",
    "                      'Umesh Yadav': 2,\n",
    "                      'Ankit Rajpoot': 4,\n",
    "                      'Extra runs': 7,\n",
    "                      'Total batted': 10},\n",
    "                'MI': {'Lendl Simmons': 3,\n",
    "                      'Parthiv Patel (wk)': 14,\n",
    "                      'Ambati Rayudu': 6,\n",
    "                      'Rohit Sharma (c)': 26,\n",
    "                      'Krunal Pandya': 45,\n",
    "                      'Kieron Pollard': 9,\n",
    "                      'Extra runs': 8,\n",
    "                      'Total batted': 6}}\n"
   ]
  },
  {
   "cell_type": "code",
   "execution_count": 145,
   "metadata": {},
   "outputs": [
    {
     "name": "stdout",
     "output_type": "stream",
     "text": [
      "{'KKR': {'Chris Lynn': 4, 'Sunil Narine': 10, 'Gautam Gambhir (c)': 12, 'Robin Uthappa (wk)': 1, 'Ishank Jaggi': 28, 'Colin Grandhomme': 0, 'Suryakumar Yadav': 31, 'Piyush Chawla': 2, 'Nathan Coulter-Nile': 6, 'Umesh Yadav': 2, 'Ankit Rajpoot': 4, 'Extra runs': 7}, 'MI': {'Lendl Simmons': 3, 'Parthiv Patel (wk)': 14, 'Ambati Rayudu': 6, 'Rohit Sharma (c)': 26, 'Krunal Pandya': 45, 'Kieron Pollard': 9, 'Extra runs': 8}}\n"
     ]
    }
   ],
   "source": [
    "#Question 1:\n",
    "#Clean the data and delete any entry from the dictionary that would impact your finding the total score later \n",
    "#(hint: do you get total score if you add all the runs?)\n",
    "\n",
    "    \n",
    "\n",
    "del qualifier_2['KKR']['Total batted']\n",
    "del qualifier_2['MI']['Total batted']\n",
    "\n",
    "print(qualifier_2)\n",
    "\n",
    "\n"
   ]
  },
  {
   "cell_type": "code",
   "execution_count": 146,
   "metadata": {},
   "outputs": [
    {
     "name": "stdout",
     "output_type": "stream",
     "text": [
      "['Chris', 'Sunil', 'Gautam', 'Robin', 'Ishank', 'Colin', 'Suryakumar', 'Piyush', 'Nathan', 'Umesh', 'Ankit', 'Extra']\n",
      "['Lynn', 'Narine', 'Gambhir', 'Uthappa', 'Jaggi', 'Grandhomme', 'Yadav', 'Chawla', 'Coulter-Nile', 'Yadav', 'Rajpoot', 'runs']\n",
      "['Lendl', 'Parthiv', 'Ambati', 'Rohit', 'Krunal', 'Kieron', 'Extra']\n",
      "['Simmons', 'Patel', 'Rayudu', 'Sharma', 'Pandya', 'Pollard', 'runs']\n"
     ]
    }
   ],
   "source": [
    "#Question 2:\n",
    "#Create 4 lists consisting of names and lastnames of players: kkr_name, kkr_lastname, mi_name, mi_last and delete any entries\n",
    "#in the lists that don't reflect player names.\n",
    "#They should look like: print(kkr_name) ['Chris', 'Sunil', 'Gautam'] etc.\n",
    "\n",
    "kkr_name = []\n",
    "kkr_lastname = []\n",
    "mi_name = []\n",
    "mi_lastname = []\n",
    "\n",
    "kkr_values = qualifier_2['KKR']\n",
    "for key,val in kkr_values.items():\n",
    "    kkr_name.append(key.split()[0])\n",
    "    kkr_lastname.append(key.split()[1])\n",
    "    \n",
    "    \n",
    "print(kkr_name)\n",
    "print(kkr_lastname)\n",
    "    \n",
    "mi_values = qualifier_2['MI']\n",
    "for key,val in mi_values.items():\n",
    "    mi_name.append(key.split()[0])\n",
    "    mi_lastname.append(key.split()[1])\n",
    "    \n",
    "    \n",
    "print(mi_name)\n",
    "print(mi_lastname)\n",
    "    \n",
    "\n",
    "\n",
    "      \n",
    "\n",
    "    \n",
    "   "
   ]
  },
  {
   "cell_type": "code",
   "execution_count": 147,
   "metadata": {},
   "outputs": [
    {
     "name": "stdout",
     "output_type": "stream",
     "text": [
      "107\n"
     ]
    }
   ],
   "source": [
    "#Question 3:\n",
    "# Write a function that takes dictionary and team as an argument and returns the total runs\n",
    "# Test case:\n",
    "# print(total_runs(qualifier_2, 'KKR')) should print 107\n",
    "\n",
    "def total_runs(dic,team):\n",
    "    sum_val = 0\n",
    "    team = dic[team]\n",
    "    for key,val in team.items():\n",
    "        sum_val += val\n",
    "    return sum_val    \n",
    "        \n",
    "\n",
    "    \n",
    "print(total_runs(qualifier_2, 'KKR'))    "
   ]
  },
  {
   "cell_type": "code",
   "execution_count": 171,
   "metadata": {},
   "outputs": [
    {
     "name": "stdout",
     "output_type": "stream",
     "text": [
      "MI\n"
     ]
    }
   ],
   "source": [
    "#Question 4:\n",
    "#.Write a function that takes dictionary and returns the name of the winning team.\n",
    "# Test case:\n",
    "# winner(qualifier_2) should print 'MI'\n",
    "\n",
    "def winner(dic):\n",
    "    x = total_runs(dic, 'KKR')\n",
    "    y = total_runs(dic, 'MI')\n",
    "    \n",
    "    if x > y :\n",
    "        print('KKR')\n",
    "    else:\n",
    "        print('MI')\n",
    "        \n",
    " \n",
    "\n",
    "\n",
    "winner(qualifier_2)"
   ]
  },
  {
   "cell_type": "code",
   "execution_count": 172,
   "metadata": {},
   "outputs": [
    {
     "name": "stdout",
     "output_type": "stream",
     "text": [
      "MI\n"
     ]
    }
   ],
   "source": [
    "#Question 5:\n",
    "#Write a function that returns the name of the team that gave maximum extra runs. \n",
    "#If the extra runs are same for both the teams, the function should print('Both team bowlers equally sloppy')\n",
    "# Test case:\n",
    "#print(sloppy_bowlers(qualifier_2)) should print 'MI'\n",
    "sloppy = {}\n",
    "def sloppy_bowlers(dic):\n",
    "    extra_val_MI = dic['MI']['Extra runs']\n",
    "    extra_val_KKR = dic['KKR']['Extra runs']\n",
    "    if extra_val_MI > extra_val_KKR :\n",
    "        print('MI')\n",
    "    else:\n",
    "        print('KKR')\n",
    " \n",
    "\n",
    "\n",
    "sloppy_bowlers(qualifier_2)"
   ]
  },
  {
   "cell_type": "code",
   "execution_count": 170,
   "metadata": {},
   "outputs": [
    {
     "name": "stdout",
     "output_type": "stream",
     "text": [
      "['Come on!', 'Ok you did something', 'Come on!', 'YOu can do better', 'Duck', 'good job', 'Come on!', 'Come on!', 'Come on!', 'Come on!']\n"
     ]
    }
   ],
   "source": [
    "#Question 6:\n",
    "# Given the list kkr_runs = [4, 10, 12, 1, 28, 0, 31, 2, 6, 2, 4], \n",
    "# print \"good job\" if the score is more than 30, \n",
    "# \"YOu can do better\" if the score is greater than 20 but less than 30,\n",
    "# \"Ok you did something\" if the score is more than 10 and less than or equal to 20,\n",
    "# \"Duck\" if its 0,\n",
    "# \"Come on!\" if its more than 0 and less than or equal to 10\n",
    "\n",
    "kkr_runs = [4, 10, 12, 1, 28, 0, 31, 2, 6, 2, 4]\n",
    "kkr_result = []\n",
    "leng = len(kkr_runs)\n",
    "for x in range(leng):\n",
    "        if kkr_runs[x] > 30:\n",
    "            kkr_result.append('good job')\n",
    "        if kkr_runs[x] > 20 and  kkr_runs[x] < 30:\n",
    "            kkr_result.append('YOu can do better')\n",
    "        if kkr_runs[x] > 10 and  kkr_runs[x] < 20:\n",
    "            kkr_result.append('Ok you did something')\n",
    "        if kkr_runs[x] > 0 and  kkr_runs[x] < 10:\n",
    "            kkr_result.append('Come on!')\n",
    "        if kkr_runs[x] == 0 :\n",
    "            kkr_result.append('Duck')\n",
    "print(kkr_result)            \n",
    "            \n",
    "\n"
   ]
  },
  {
   "cell_type": "code",
   "execution_count": 94,
   "metadata": {},
   "outputs": [
    {
     "name": "stdout",
     "output_type": "stream",
     "text": [
      "enter two numbers4 8\n"
     ]
    }
   ],
   "source": [
    "#Question 7:\n",
    "# Ask the user to enter two numbers. Print all numbers between these two numbers, both numbers included. \n",
    "# The numbers could be in any order. Use while loop\n",
    "# If both the numbers are same, print \"duh\".\n",
    "\n",
    "s = input(\"enter two numbers\")\n"
   ]
  },
  {
   "cell_type": "code",
   "execution_count": 95,
   "metadata": {},
   "outputs": [
    {
     "name": "stdout",
     "output_type": "stream",
     "text": [
      "4\n",
      "5\n",
      "6\n",
      "7\n",
      "8\n"
     ]
    }
   ],
   "source": [
    "s = s.split(' ')\n",
    "if (int(s[0]) == int(s[1])):\n",
    "    print (\"duh\")\n",
    "else:\n",
    "    x = int(s[0])\n",
    "    y = int(s[1])\n",
    "    while (x <= y):\n",
    "        print(x)\n",
    "        x += 1"
   ]
  },
  {
   "cell_type": "markdown",
   "metadata": {},
   "source": [
    "Extra credits:"
   ]
  },
  {
   "cell_type": "code",
   "execution_count": 129,
   "metadata": {},
   "outputs": [],
   "source": [
    "#Question 8:\n",
    "#Generate a random number using following code\n",
    "import random\n",
    "random_number = random.randint( 0, 10)\n",
    "#Now keep asking the user to guess the number. If user's guess is more than the random number, print ('Go low'),\n",
    "#if user's guess is less than the random number, print ('Go high'),\n",
    "#when user makes the right guess, print ('Congratulations') and stop the loop\n",
    "\n",
    "   \n",
    "\n",
    "    \n",
    "\n",
    " \n",
    "    "
   ]
  },
  {
   "cell_type": "code",
   "execution_count": 130,
   "metadata": {},
   "outputs": [
    {
     "name": "stdout",
     "output_type": "stream",
     "text": [
      "Guess the random number19\n",
      "Go low\n",
      "Guess the random number10\n",
      "Go low\n",
      "Guess the random number8\n",
      "Go low\n",
      "Guess the random number4\n",
      "Cngratulations\n"
     ]
    }
   ],
   "source": [
    "\n",
    "xy = False   \n",
    "while (1):\n",
    "    if xy == True:\n",
    "        break;\n",
    "    s = input(\"Guess the random number\")\n",
    "    s = int(s)\n",
    "    \n",
    "    if s > random_number:\n",
    "        print(\"Go low\")\n",
    "    \n",
    "    if s < random_number:\n",
    "        print(\"Go high\")\n",
    "   \n",
    "    if s == random_number:\n",
    "        print(\"Cngratulations\")\n",
    "        xy = True\n",
    "\n",
    "            \n",
    "   \n",
    "    "
   ]
  },
  {
   "cell_type": "code",
   "execution_count": 107,
   "metadata": {},
   "outputs": [
    {
     "data": {
      "text/plain": [
       "{0, 1, 2, 4, 6, 10, 12, 28, 31}"
      ]
     },
     "execution_count": 107,
     "metadata": {},
     "output_type": "execute_result"
    }
   ],
   "source": [
    "#Question 9:\n",
    "#Given the list of kkr score, return another list kkr_unique with only unique runs (The list would have only a single instance of numbers 4 and 2)\n",
    "kkr_runs = [4, 10, 12, 1, 28, 0, 31, 2, 6, 2, 4]\n",
    "\n",
    "set(kkr_runs)\n"
   ]
  },
  {
   "cell_type": "code",
   "execution_count": 117,
   "metadata": {},
   "outputs": [],
   "source": [
    "#Question 10:\n",
    "# Write your own sort functin called my_sort() that takes a list as an argument and returns the sorted list.\n",
    "# Test case:\n",
    "# my_sort([3, 14, 6, 26, 45, 9, 8]) should return [3, 6, 8, 9, 14, 26, 45]\n",
    "\n",
    "def my_sort(l):\n",
    "    \n",
    "    new_list = []\n",
    "    while l:\n",
    "        minimum = l[0]  \n",
    "        for x in l:\n",
    "            if x < minimum:\n",
    "                minimum = x\n",
    "        new_list.append(minimum)\n",
    "        l.remove(minimum)    \n",
    "    print (new_list)\n",
    "    "
   ]
  },
  {
   "cell_type": "code",
   "execution_count": 118,
   "metadata": {},
   "outputs": [
    {
     "name": "stdout",
     "output_type": "stream",
     "text": [
      "[0, 1, 3, 5, 7]\n"
     ]
    }
   ],
   "source": [
    "my_sort([3,5,1,7,0])"
   ]
  },
  {
   "cell_type": "code",
   "execution_count": null,
   "metadata": {},
   "outputs": [],
   "source": []
  }
 ],
 "metadata": {
  "kernelspec": {
   "display_name": "Python 3",
   "language": "python",
   "name": "python3"
  }
 },
 "nbformat": 4,
 "nbformat_minor": 2
}
